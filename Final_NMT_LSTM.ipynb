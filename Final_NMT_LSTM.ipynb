{
  "nbformat": 4,
  "nbformat_minor": 0,
  "metadata": {
    "colab": {
      "name": "Final_NMT_LSTM.ipynb",
      "provenance": [],
      "collapsed_sections": []
    },
    "kernelspec": {
      "name": "python3",
      "display_name": "Python 3"
    },
    "accelerator": "GPU"
  },
  "cells": [
    {
      "cell_type": "code",
      "metadata": {
        "id": "otL7bVArhmQ3",
        "colab_type": "code",
        "outputId": "edda99b0-b109-4177-cff7-00eec4b6fb24",
        "colab": {
          "base_uri": "https://localhost:8080/",
          "height": 34
        }
      },
      "source": [
        "#'''Sequence to sequence example in Keras (character-level).\n",
        "#This script demonstrates how to implement a basic character-level\n",
        "#sequence-to-sequence model. We apply it to translating\n",
        "#short English sentences into short French sentences,\n",
        "#character-by-character. Note that it is fairly unusual to\n",
        "#do character-level machine translation, as word-level\n",
        "#models are more common in this domain.\n",
        "\n",
        "#Here's a summary of our process:\n",
        "\n",
        "#1) Turn the sentences into 3 Numpy arrays, encoder_input_data, decoder_input_data, decoder_target_data:\n",
        "#encoder_input_data is a 3D array of shape (num_pairs, max_english_sentence_length, num_english_characters) containing a one-hot vectorization of the English sentences.\n",
        "#decoder_input_data is a 3D array of shape (num_pairs, max_french_sentence_length, num_french_characters) containg a one-hot vectorization of the French sentences.\n",
        "#decoder_target_data is the same as decoder_input_data but offset by one timestep. decoder_target_data[:, t, :] will be the same as decoder_input_data[:, t + 1, :].\n",
        "#2) Train a basic LSTM-based Seq2Seq model to predict decoder_target_data given encoder_input_data and decoder_input_data. Our model uses teacher forcing.\n",
        "#3) Decode some sentences to check that the model is working (i.e. turn samples from encoder_input_data into corresponding samples from decoder_target_data).\n",
        "#Because the training process and inference process (decoding sentences) are quite different, we use different models for both, albeit they all leverage the same inner layers.\n",
        "\n",
        "#This is our training model. It leverages three key features of Keras RNNs:\n",
        "\n",
        "#The return_state contructor argument, configuring a RNN layer to return a list where the first entry is the outputs and the next entries are the internal RNN states. This is used to recover the states of the encoder.\n",
        "#The inital_state call argument, specifying the initial state(s) of a RNN. This is used to pass the encoder states to the decoder as initial states.\n",
        "#The return_sequences constructor argument, configuring a RNN to return its full sequence of outputs (instead of just the last output, which the defaults behavior). This is used in the decoder.\n",
        "\n",
        "# Summary of the algorithm\n",
        "#- We start with input sequences from a domain (e.g. English sentences)\n",
        "#    and corresponding target sequences from another domain\n",
        "#    (e.g. French sentences).\n",
        "#- An encoder LSTM turns input sequences to 2 state vectors\n",
        "#    (we keep the last LSTM state and discard the outputs).\n",
        "#- A decoder LSTM is trained to turn the target sequences into\n",
        "#    the same sequence but offset by one timestep in the future,\n",
        "#    a training process called \"teacher forcing\" in this context.\n",
        "#    It uses as initial state the state vectors from the encoder.\n",
        "#    Effectively, the decoder learns to generate `targets[t+1...]`\n",
        "#    given `targets[...t]`, conditioned on the input sequence.\n",
        "#- In inference mode, when we want to decode unknown input sequences, we:\n",
        "#    - Encode the input sequence into state vectors\n",
        "#    - Start with a target sequence of size 1\n",
        "#        (just the start-of-sequence character)\n",
        "#    - Feed the state vectors and 1-char target sequence\n",
        "#        to the decoder to produce predictions for the next character\n",
        "#    - Sample the next character using these predictions\n",
        "#        (we simply use argmax).\n",
        "#    - Append the sampled character to the target sequence\n",
        "#    - Repeat until we generate the end-of-sequence character or we\n",
        "#        hit the character limit.\n",
        "\n",
        "# References\n",
        "#- Sequence to Sequence Learning with Neural Networks\n",
        "#    https://arxiv.org/abs/1409.3215\n",
        "#- Learning Phrase Representations using\n",
        "#    RNN Encoder-Decoder for Statistical Machine Translation\n",
        "#    https://arxiv.org/abs/1406.1078\n",
        "\n",
        "\n",
        "from __future__ import print_function\n",
        "\n",
        "from keras.models import Model\n",
        "from keras.layers import Input, LSTM, Dense\n",
        "import numpy as np"
      ],
      "execution_count": 0,
      "outputs": [
        {
          "output_type": "stream",
          "text": [
            "Using TensorFlow backend.\n"
          ],
          "name": "stderr"
        }
      ]
    },
    {
      "cell_type": "code",
      "metadata": {
        "id": "UHtY8Uu3AIEX",
        "colab_type": "code",
        "outputId": "8d5cc29f-ef88-4dcf-ca94-bb55ece5e19b",
        "colab": {
          "base_uri": "https://localhost:8080/",
          "height": 54
        }
      },
      "source": [
        "from google.colab import drive\n",
        "drive.mount(\"/content/drive/\")"
      ],
      "execution_count": 0,
      "outputs": [
        {
          "output_type": "stream",
          "text": [
            "Drive already mounted at /content/drive/; to attempt to forcibly remount, call drive.mount(\"/content/drive/\", force_remount=True).\n"
          ],
          "name": "stdout"
        }
      ]
    },
    {
      "cell_type": "code",
      "metadata": {
        "id": "2dbCkTYJAPp_",
        "colab_type": "code",
        "colab": {}
      },
      "source": [
        "project_path = \"/content/drive/My Drive/AIML Notes/NMT/\""
      ],
      "execution_count": 0,
      "outputs": []
    },
    {
      "cell_type": "code",
      "metadata": {
        "id": "gwCnGuakAPsX",
        "colab_type": "code",
        "colab": {}
      },
      "source": [
        "data_path = project_path + \"fra.txt\""
      ],
      "execution_count": 0,
      "outputs": []
    },
    {
      "cell_type": "code",
      "metadata": {
        "id": "5yacnpkLhmQ9",
        "colab_type": "code",
        "colab": {}
      },
      "source": [
        "batch_size = 64  # Batch size for training.\n",
        "epochs = 100  # Number of epochs to train for.\n",
        "latent_dim = 256  # Latent dimensionality of the encoding space.\n",
        "num_samples = 10000  # Number of samples to train on."
      ],
      "execution_count": 0,
      "outputs": []
    },
    {
      "cell_type": "code",
      "metadata": {
        "id": "I8HRDNoRhmQ_",
        "colab_type": "code",
        "colab": {}
      },
      "source": [
        "# Vectorize the data.\n",
        "input_texts = []\n",
        "target_texts = []\n",
        "input_characters = set()\n",
        "target_characters = set()\n",
        "with open(data_path, 'r', encoding='utf-8') as f:\n",
        "    lines = f.read().split('\\n')\n",
        "for line in lines[: min(num_samples, len(lines) - 1)]:\n",
        "    input_text, target_text = line.split('\\t')\n",
        "    # We use \"tab\" as the \"start sequence\" character\n",
        "    # for the targets, and \"\\n\" as \"end sequence\" character.\n",
        "    target_text = '\\t' + target_text + '\\n'\n",
        "    input_texts.append(input_text)\n",
        "    target_texts.append(target_text)\n",
        "    for char in input_text:\n",
        "        if char not in input_characters:\n",
        "            input_characters.add(char)\n",
        "    for char in target_text:\n",
        "        if char not in target_characters:\n",
        "            target_characters.add(char)"
      ],
      "execution_count": 0,
      "outputs": []
    },
    {
      "cell_type": "code",
      "metadata": {
        "id": "_CxnWlHahmRC",
        "colab_type": "code",
        "colab": {}
      },
      "source": [
        "input_characters = sorted(list(input_characters))\n",
        "target_characters = sorted(list(target_characters))\n",
        "num_encoder_tokens = len(input_characters)\n",
        "num_decoder_tokens = len(target_characters)\n",
        "max_encoder_seq_length = max([len(txt) for txt in input_texts])\n",
        "max_decoder_seq_length = max([len(txt) for txt in target_texts])"
      ],
      "execution_count": 0,
      "outputs": []
    },
    {
      "cell_type": "code",
      "metadata": {
        "id": "QQQiUjCfhmRE",
        "colab_type": "code",
        "outputId": "e0b62664-4377-4643-f825-17fd4401bed6",
        "colab": {
          "base_uri": "https://localhost:8080/",
          "height": 102
        }
      },
      "source": [
        "print('Number of samples:', len(input_texts))\n",
        "print('Number of unique input tokens:', num_encoder_tokens)\n",
        "print('Number of unique output tokens:', num_decoder_tokens)\n",
        "print('Max sequence length for inputs:', max_encoder_seq_length)\n",
        "print('Max sequence length for outputs:', max_decoder_seq_length)"
      ],
      "execution_count": 0,
      "outputs": [
        {
          "output_type": "stream",
          "text": [
            "Number of samples: 10000\n",
            "Number of unique input tokens: 69\n",
            "Number of unique output tokens: 93\n",
            "Max sequence length for inputs: 16\n",
            "Max sequence length for outputs: 59\n"
          ],
          "name": "stdout"
        }
      ]
    },
    {
      "cell_type": "code",
      "metadata": {
        "id": "nAW5tbkBhmRJ",
        "colab_type": "code",
        "colab": {}
      },
      "source": [
        "input_token_index = dict(\n",
        "    [(char, i) for i, char in enumerate(input_characters)])\n",
        "target_token_index = dict(\n",
        "    [(char, i) for i, char in enumerate(target_characters)])"
      ],
      "execution_count": 0,
      "outputs": []
    },
    {
      "cell_type": "code",
      "metadata": {
        "id": "DOQNlNb4hmRN",
        "colab_type": "code",
        "colab": {}
      },
      "source": [
        "encoder_input_data = np.zeros(\n",
        "    (len(input_texts), max_encoder_seq_length, num_encoder_tokens),\n",
        "    dtype='float32')\n",
        "decoder_input_data = np.zeros(\n",
        "    (len(input_texts), max_decoder_seq_length, num_decoder_tokens),\n",
        "    dtype='float32')\n",
        "decoder_target_data = np.zeros(\n",
        "    (len(input_texts), max_decoder_seq_length, num_decoder_tokens),\n",
        "    dtype='float32')"
      ],
      "execution_count": 0,
      "outputs": []
    },
    {
      "cell_type": "code",
      "metadata": {
        "id": "EFd3ZQCohmRR",
        "colab_type": "code",
        "colab": {}
      },
      "source": [
        "for i, (input_text, target_text) in enumerate(zip(input_texts, target_texts)):\n",
        "    for t, char in enumerate(input_text):\n",
        "        encoder_input_data[i, t, input_token_index[char]] = 1.\n",
        "    for t, char in enumerate(target_text):\n",
        "        # decoder_target_data is ahead of decoder_input_data by one timestep\n",
        "        decoder_input_data[i, t, target_token_index[char]] = 1.\n",
        "        if t > 0:\n",
        "            # decoder_target_data will be ahead by one timestep\n",
        "            # and will not include the start character.\n",
        "            decoder_target_data[i, t - 1, target_token_index[char]] = 1."
      ],
      "execution_count": 0,
      "outputs": []
    },
    {
      "cell_type": "code",
      "metadata": {
        "id": "Jd1wph_PhmRV",
        "colab_type": "code",
        "outputId": "0afba3e6-05a0-4189-fe35-7bd8c268beb8",
        "colab": {
          "base_uri": "https://localhost:8080/",
          "height": 88
        }
      },
      "source": [
        "# Define an input sequence and process it.\n",
        "encoder_inputs = Input(shape=(None, num_encoder_tokens))\n",
        "encoder = LSTM(latent_dim, return_state=True)\n",
        "encoder_outputs, state_h, state_c = encoder(encoder_inputs)\n",
        "# We discard `encoder_outputs` and only keep the states.\n",
        "encoder_states = [state_h, state_c]\n",
        "encoder_model = Model(encoder_inputs, encoder_states)\n"
      ],
      "execution_count": 0,
      "outputs": [
        {
          "output_type": "stream",
          "text": [
            "WARNING:tensorflow:From /usr/local/lib/python3.6/dist-packages/tensorflow/python/framework/op_def_library.py:263: colocate_with (from tensorflow.python.framework.ops) is deprecated and will be removed in a future version.\n",
            "Instructions for updating:\n",
            "Colocations handled automatically by placer.\n"
          ],
          "name": "stdout"
        }
      ]
    },
    {
      "cell_type": "code",
      "metadata": {
        "id": "d9ZSSF6xhmRZ",
        "colab_type": "code",
        "colab": {}
      },
      "source": [
        "\n",
        "# Set up the decoder, using `encoder_states` as initial state.\n",
        "decoder_inputs = Input(shape=(None, num_decoder_tokens))\n",
        "# We set up our decoder to return full output sequences,\n",
        "# and to return internal states as well. We don't use the\n",
        "# return states in the training model, but we will use them in inference.\n",
        "decoder_lstm = LSTM(latent_dim, return_sequences=True, return_state=True)\n",
        "decoder_outputs, _, _ = decoder_lstm(decoder_inputs,\n",
        "                                     initial_state=encoder_states)\n",
        "decoder_dense = Dense(num_decoder_tokens, activation='softmax')\n",
        "decoder_outputs = decoder_dense(decoder_outputs)"
      ],
      "execution_count": 0,
      "outputs": []
    },
    {
      "cell_type": "code",
      "metadata": {
        "id": "jAhq1nZKhmRd",
        "colab_type": "code",
        "colab": {}
      },
      "source": [
        "# Define the model that will turn\n",
        "# `encoder_input_data` & `decoder_input_data` into `decoder_target_data`\n",
        "model = Model([encoder_inputs, decoder_inputs], decoder_outputs)"
      ],
      "execution_count": 0,
      "outputs": []
    },
    {
      "cell_type": "code",
      "metadata": {
        "id": "nOQ2qj9KhmRf",
        "colab_type": "code",
        "outputId": "e4b46e7e-bcd3-4b36-8e5a-1de831cf9bf3",
        "colab": {
          "base_uri": "https://localhost:8080/",
          "height": 1108
        }
      },
      "source": [
        "# Run training\n",
        "model.compile(optimizer='rmsprop', loss='categorical_crossentropy')\n",
        "model.fit([encoder_input_data, decoder_input_data], decoder_target_data,\n",
        "          batch_size=batch_size,\n",
        "          epochs=30,\n",
        "          validation_split=0.2)\n",
        "# Save model\n",
        "model.save('s2s.h5')"
      ],
      "execution_count": 0,
      "outputs": [
        {
          "output_type": "stream",
          "text": [
            "Train on 8000 samples, validate on 2000 samples\n",
            "Epoch 1/30\n",
            "8000/8000 [==============================] - 19s 2ms/step - loss: 0.5596 - val_loss: 0.6544\n",
            "Epoch 2/30\n",
            "8000/8000 [==============================] - 18s 2ms/step - loss: 0.5189 - val_loss: 0.6036\n",
            "Epoch 3/30\n",
            "8000/8000 [==============================] - 17s 2ms/step - loss: 0.4879 - val_loss: 0.5694\n",
            "Epoch 4/30\n",
            "8000/8000 [==============================] - 17s 2ms/step - loss: 0.4626 - val_loss: 0.5460\n",
            "Epoch 5/30\n",
            "8000/8000 [==============================] - 17s 2ms/step - loss: 0.4397 - val_loss: 0.5312\n",
            "Epoch 6/30\n",
            "8000/8000 [==============================] - 18s 2ms/step - loss: 0.4199 - val_loss: 0.5183\n",
            "Epoch 7/30\n",
            "8000/8000 [==============================] - 18s 2ms/step - loss: 0.4022 - val_loss: 0.5004\n",
            "Epoch 8/30\n",
            "8000/8000 [==============================] - 18s 2ms/step - loss: 0.3863 - val_loss: 0.5016\n",
            "Epoch 9/30\n",
            "8000/8000 [==============================] - 18s 2ms/step - loss: 0.3718 - val_loss: 0.4855\n",
            "Epoch 10/30\n",
            "8000/8000 [==============================] - 18s 2ms/step - loss: 0.3584 - val_loss: 0.4765\n",
            "Epoch 11/30\n",
            "8000/8000 [==============================] - 18s 2ms/step - loss: 0.3456 - val_loss: 0.4696\n",
            "Epoch 12/30\n",
            "8000/8000 [==============================] - 18s 2ms/step - loss: 0.3333 - val_loss: 0.4645\n",
            "Epoch 13/30\n",
            "8000/8000 [==============================] - 18s 2ms/step - loss: 0.3223 - val_loss: 0.4655\n",
            "Epoch 14/30\n",
            "8000/8000 [==============================] - 17s 2ms/step - loss: 0.3114 - val_loss: 0.4591\n",
            "Epoch 15/30\n",
            "8000/8000 [==============================] - 18s 2ms/step - loss: 0.3010 - val_loss: 0.4581\n",
            "Epoch 16/30\n",
            "8000/8000 [==============================] - 17s 2ms/step - loss: 0.2910 - val_loss: 0.4620\n",
            "Epoch 17/30\n",
            "8000/8000 [==============================] - 17s 2ms/step - loss: 0.2817 - val_loss: 0.4540\n",
            "Epoch 18/30\n",
            "8000/8000 [==============================] - 18s 2ms/step - loss: 0.2725 - val_loss: 0.4571\n",
            "Epoch 19/30\n",
            "8000/8000 [==============================] - 17s 2ms/step - loss: 0.2637 - val_loss: 0.4559\n",
            "Epoch 20/30\n",
            "8000/8000 [==============================] - 17s 2ms/step - loss: 0.2554 - val_loss: 0.4611\n",
            "Epoch 21/30\n",
            "8000/8000 [==============================] - 17s 2ms/step - loss: 0.2474 - val_loss: 0.4618\n",
            "Epoch 22/30\n",
            "8000/8000 [==============================] - 17s 2ms/step - loss: 0.2404 - val_loss: 0.4592\n",
            "Epoch 23/30\n",
            "8000/8000 [==============================] - 18s 2ms/step - loss: 0.2328 - val_loss: 0.4623\n",
            "Epoch 24/30\n",
            "8000/8000 [==============================] - 17s 2ms/step - loss: 0.2259 - val_loss: 0.4641\n",
            "Epoch 25/30\n",
            "8000/8000 [==============================] - 17s 2ms/step - loss: 0.2198 - val_loss: 0.4657\n",
            "Epoch 26/30\n",
            "8000/8000 [==============================] - 18s 2ms/step - loss: 0.2127 - val_loss: 0.4711\n",
            "Epoch 27/30\n",
            "8000/8000 [==============================] - 17s 2ms/step - loss: 0.2070 - val_loss: 0.4740\n",
            "Epoch 28/30\n",
            "8000/8000 [==============================] - 17s 2ms/step - loss: 0.2007 - val_loss: 0.4782\n",
            "Epoch 29/30\n",
            "8000/8000 [==============================] - 18s 2ms/step - loss: 0.1956 - val_loss: 0.4785\n",
            "Epoch 30/30\n",
            "8000/8000 [==============================] - 17s 2ms/step - loss: 0.1898 - val_loss: 0.4878\n"
          ],
          "name": "stdout"
        },
        {
          "output_type": "stream",
          "text": [
            "/usr/local/lib/python3.6/dist-packages/keras/engine/network.py:877: UserWarning: Layer lstm_2 was passed non-serializable keyword arguments: {'initial_state': [<tf.Tensor 'lstm_1/while/Exit_2:0' shape=(?, 256) dtype=float32>, <tf.Tensor 'lstm_1/while/Exit_3:0' shape=(?, 256) dtype=float32>]}. They will not be included in the serialized model (and thus will be missing at deserialization time).\n",
            "  '. They will not be included '\n"
          ],
          "name": "stderr"
        }
      ]
    },
    {
      "cell_type": "code",
      "metadata": {
        "id": "ywtXtiFLGBuc",
        "colab_type": "code",
        "colab": {}
      },
      "source": [
        "## loading the already trained model\n",
        "from keras.models import load_model\n",
        "model = load_model(project_path+\"s2s.h5\")"
      ],
      "execution_count": 0,
      "outputs": []
    },
    {
      "cell_type": "code",
      "metadata": {
        "id": "j6qOIcIzB52L",
        "colab_type": "code",
        "colab": {}
      },
      "source": [
        "encoder_model = Model(encoder_inputs, encoder_states)\n",
        "\n",
        "decoder_state_input_h = Input(shape=(latent_dim,))\n",
        "decoder_state_input_c = Input(shape=(latent_dim,))\n",
        "decoder_states_inputs = [decoder_state_input_h, decoder_state_input_c]\n",
        "decoder_outputs, state_h, state_c = decoder_lstm(\n",
        "    decoder_inputs, initial_state=decoder_states_inputs)\n",
        "decoder_states = [state_h, state_c]\n",
        "decoder_outputs = decoder_dense(decoder_outputs)\n",
        "decoder_model = Model(\n",
        "    [decoder_inputs] + decoder_states_inputs,\n",
        "    [decoder_outputs] + decoder_states)"
      ],
      "execution_count": 0,
      "outputs": []
    },
    {
      "cell_type": "code",
      "metadata": {
        "id": "LJA_HmXphmRi",
        "colab_type": "code",
        "colab": {}
      },
      "source": [
        "# Reverse-lookup token index to decode sequences back to\n",
        "# something readable.\n",
        "reverse_input_char_index = dict(\n",
        "    (i, char) for char, i in input_token_index.items())\n",
        "reverse_target_char_index = dict(\n",
        "    (i, char) for char, i in target_token_index.items())"
      ],
      "execution_count": 0,
      "outputs": []
    },
    {
      "cell_type": "code",
      "metadata": {
        "id": "Sk6fT7tbhmRk",
        "colab_type": "code",
        "colab": {}
      },
      "source": [
        "def decode_sequence(input_seq):\n",
        "    # Encode the input as state vectors.\n",
        "    states_value = encoder_model.predict(input_seq)\n",
        "\n",
        "    # Generate empty target sequence of length 1.\n",
        "    target_seq = np.zeros((1, 1, num_decoder_tokens))\n",
        "    # Populate the first character of target sequence with the start character.\n",
        "    target_seq[0, 0, target_token_index['\\t']] = 1.\n",
        "\n",
        "    # Sampling loop for a batch of sequences\n",
        "    # (to simplify, here we assume a batch of size 1).\n",
        "    stop_condition = False\n",
        "    decoded_sentence = ''\n",
        "    while not stop_condition:\n",
        "        output_tokens, h, c = decoder_model.predict(\n",
        "            [target_seq] + states_value)\n",
        "\n",
        "        # Sample a token\n",
        "        sampled_token_index = np.argmax(output_tokens[0, -1, :])\n",
        "        sampled_char = reverse_target_char_index[sampled_token_index]\n",
        "        decoded_sentence += sampled_char\n",
        "\n",
        "        # Exit condition: either hit max length\n",
        "        # or find stop character.\n",
        "        if (sampled_char == '\\n' or\n",
        "           len(decoded_sentence) > max_decoder_seq_length):\n",
        "            stop_condition = True\n",
        "\n",
        "        # Update the target sequence (of length 1).\n",
        "        target_seq = np.zeros((1, 1, num_decoder_tokens))\n",
        "        target_seq[0, 0, sampled_token_index] = 1.\n",
        "\n",
        "        # Update states\n",
        "        states_value = [h, c]\n",
        "\n",
        "    return decoded_sentence"
      ],
      "execution_count": 0,
      "outputs": []
    },
    {
      "cell_type": "code",
      "metadata": {
        "id": "XeqSEr0rhmRm",
        "colab_type": "code",
        "outputId": "5a102f34-55ac-4ff6-fbd1-15898f63dd73",
        "colab": {
          "base_uri": "https://localhost:8080/",
          "height": 697
        }
      },
      "source": [
        "for seq_index in range(10):\n",
        "    # Take one sequence (part of the training set)\n",
        "    # for trying out decoding.\n",
        "    input_seq = encoder_input_data[seq_index: seq_index + 1]\n",
        "    decoded_sentence = decode_sequence(input_seq)\n",
        "    print('-')\n",
        "    print('Input sentence:', input_texts[seq_index])\n",
        "    print('Decoded sentence:', decoded_sentence)"
      ],
      "execution_count": 0,
      "outputs": [
        {
          "output_type": "stream",
          "text": [
            "-\n",
            "Input sentence: Go.\n",
            "Decoded sentence: Bonne cance !\n",
            "\n",
            "-\n",
            "Input sentence: Hi.\n",
            "Decoded sentence: Continuez à rouler !\n",
            "\n",
            "-\n",
            "Input sentence: Run!\n",
            "Decoded sentence: Sauvez-vous !\n",
            "\n",
            "-\n",
            "Input sentence: Run!\n",
            "Decoded sentence: Sauvez-vous !\n",
            "\n",
            "-\n",
            "Input sentence: Wow!\n",
            "Decoded sentence: Laisse-toi tout !\n",
            "\n",
            "-\n",
            "Input sentence: Fire!\n",
            "Decoded sentence: Au peurens !\n",
            "\n",
            "-\n",
            "Input sentence: Help!\n",
            "Decoded sentence: Salut !\n",
            "\n",
            "-\n",
            "Input sentence: Jump.\n",
            "Decoded sentence: Parde-moi !\n",
            "\n",
            "-\n",
            "Input sentence: Stop!\n",
            "Decoded sentence: Arrêtez de muriler !\n",
            "\n",
            "-\n",
            "Input sentence: Stop!\n",
            "Decoded sentence: Arrêtez de muriler !\n",
            "\n"
          ],
          "name": "stdout"
        }
      ]
    },
    {
      "cell_type": "code",
      "metadata": {
        "id": "G9ekwztmCx0f",
        "colab_type": "code",
        "colab": {}
      },
      "source": [
        ""
      ],
      "execution_count": 0,
      "outputs": []
    }
  ]
}